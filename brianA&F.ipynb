{
 "cells": [
  {
   "cell_type": "markdown",
   "metadata": {},
   "source": [
    "This part is where we wrangle our data sets, we will use Roosevelt University as our baseline to determine our assumptions"
   ]
  },
  {
   "cell_type": "code",
   "execution_count": 519,
   "metadata": {
    "collapsed": true
   },
   "outputs": [],
   "source": [
    "import pandas as pd \n",
    "import numpy as np\n",
    "from sklearn.cluster import KMeans # We're going to use KMeans Clustering for unsupervised learning, \n",
    "                                    # this is the most used unsupervised learning algorithm\n",
    "import matplotlib.pyplot as plt\n",
    "from sklearn.preprocessing import MinMaxScaler # this is for scaling our feature vectors\n",
    "from mpl_toolkits.mplot3d import Axes3D\n",
    "from sklearn.model_selection import train_test_split\n",
    "from sklearn.metrics import mean_squared_error, r2_score\n",
    "from sklearn.ensemble import RandomForestRegressor #We're using Random Forest for our supervised learning algorithm\n",
    "                                                    # this is one of the most used algorithm in the industry\n",
    "%matplotlib inline"
   ]
  },
  {
   "cell_type": "code",
   "execution_count": 520,
   "metadata": {},
   "outputs": [
    {
     "name": "stdout",
     "output_type": "stream",
     "text": [
      "                             INSTNM  TUITFTE GRAD_DEBT_MDN MD_EARN_WNE_P10  \\\n",
      "0          Alabama A & M University   9427.0         33775           31000   \n",
      "4          Alabama State University   7733.0       32871.5           27700   \n",
      "8   Auburn University at Montgomery   8071.0         20750           33300   \n",
      "16              Faulkner University  11127.0         21000           35400   \n",
      "32       University of West Alabama   7928.0         23000           37400   \n",
      "\n",
      "    INEXPFTE  AVGFACSAL     NPT4   NUM4  ADM_RATE  \n",
      "0     7437.0     6892.0  15229.0  680.0    0.5256  \n",
      "4     7618.0     6609.0  11110.0  778.0    0.5326  \n",
      "8     6837.0     7255.0  13431.0  428.0    0.8017  \n",
      "16    5826.0     6485.0  20240.0  245.0       NaN  \n",
      "32    7552.0     6146.0  13092.0  273.0    0.7199  \n"
     ]
    }
   ],
   "source": [
    "df = pd.read_csv(\"C:/Users/Brian/Desktop/A&F/MERGED2014_15_PP.csv\",low_memory=False)\n",
    "df = df[df['UGDS'].between(1000, 5000, inclusive=True)] #setting the colleges that have between 1000 and 5000 undergraduates\n",
    "df = df.loc[df['HIGHDEG'] == 4] #We will only use colleges that offer 4 year degrees\n",
    "df[\"NPT4\"] = df.NPT4_PUB.combine_first(df.NPT4_PRIV) #combining the NPT4_PUB and NPT4_PRIV\n",
    "df[\"NUM4\"] = df.NUM4_PUB.combine_first(df.NUM4_PRIV) #combining the NUM4_PUB and NUM4_PRIV\n",
    "df = (df[['INSTNM','TUITFTE','GRAD_DEBT_MDN','MD_EARN_WNE_P10','INEXPFTE','AVGFACSAL','NPT4','NUM4','ADM_RATE']])\n",
    "# these are the columns that we will be using\n",
    "print (df.head())"
   ]
  },
  {
   "cell_type": "code",
   "execution_count": 521,
   "metadata": {},
   "outputs": [
    {
     "name": "stdout",
     "output_type": "stream",
     "text": [
      "                             INSTNM  TUITFTE GRAD_DEBT_MDN MD_EARN_WNE_P10  \\\n",
      "0          Alabama A & M University   9427.0         33775           31000   \n",
      "4          Alabama State University   7733.0       32871.5           27700   \n",
      "8   Auburn University at Montgomery   8071.0         20750           33300   \n",
      "32       University of West Alabama   7928.0         23000           37400   \n",
      "36             University of Mobile   9947.0         27000           35200   \n",
      "\n",
      "    INEXPFTE  AVGFACSAL     NPT4   NUM4  ADM_RATE  \n",
      "0     7437.0     6892.0  15229.0  680.0    0.5256  \n",
      "4     7618.0     6609.0  11110.0  778.0    0.5326  \n",
      "8     6837.0     7255.0  13431.0  428.0    0.8017  \n",
      "32    7552.0     6146.0  13092.0  273.0    0.7199  \n",
      "36    6766.0     4914.0  19017.0  184.0    0.5847  \n"
     ]
    }
   ],
   "source": [
    "to_drop = ['PrivacySuppressed','NULL'] # this is to remove cells with strings that contain the words PrivacySuppressed and NULL\n",
    "new_df = df[~df[['INSTNM','TUITFTE','GRAD_DEBT_MDN','MD_EARN_WNE_P10','INEXPFTE','AVGFACSAL','NPT4','NUM4','ADM_RATE']].isin(to_drop)]\n",
    "new_df = new_df.dropna() #dropping all rows with NaN\n",
    "print (new_df.head())"
   ]
  },
  {
   "cell_type": "code",
   "execution_count": 522,
   "metadata": {},
   "outputs": [
    {
     "name": "stdout",
     "output_type": "stream",
     "text": [
      "                             INSTNM   TUITFTE  GRAD_DEBT_MDN  MD_EARN_WNE_P10  \\\n",
      "0          Alabama A & M University  0.214950       0.722185         0.126747   \n",
      "4          Alabama State University  0.175293       0.698223         0.095993   \n",
      "8   Auburn University at Montgomery  0.183206       0.376740         0.148183   \n",
      "32       University of West Alabama  0.179858       0.436414         0.186393   \n",
      "36             University of Mobile  0.227123       0.542501         0.165890   \n",
      "\n",
      "    INEXPFTE  AVGFACSAL      NPT4   NUM4  ADM_RATE  \n",
      "0   0.101066   0.366077  0.290133  680.0  0.485020  \n",
      "4   0.104006   0.347036  0.196182  778.0  0.492618  \n",
      "8   0.091318   0.390500  0.249122  428.0  0.784737  \n",
      "32  0.102934   0.315885  0.241390  273.0  0.695940  \n",
      "36  0.090165   0.232995  0.376534  184.0  0.549175  \n"
     ]
    }
   ],
   "source": [
    "scaler = MinMaxScaler() # We will use the most used scaling which is the MinMaxScaler\n",
    "new_df[['TUITFTE','GRAD_DEBT_MDN','MD_EARN_WNE_P10','INEXPFTE','AVGFACSAL','NPT4','ADM_RATE']] = scaler.fit_transform(new_df[['TUITFTE','GRAD_DEBT_MDN','MD_EARN_WNE_P10','INEXPFTE','AVGFACSAL','NPT4','ADM_RATE']])\n",
    "# In here we scale the features that we will be using, the target is usually not scaled that is why we comment out the NUM4\n",
    "#new_df[['NUM4']] = scaler.fit_transform(new_df[['NUM4']])\n",
    "print (new_df.head())"
   ]
  },
  {
   "cell_type": "markdown",
   "metadata": {},
   "source": [
    "This the part where we do our KMeans Clustering Unsupervised Learning Algorithm"
   ]
  },
  {
   "cell_type": "code",
   "execution_count": 523,
   "metadata": {},
   "outputs": [
    {
     "name": "stdout",
     "output_type": "stream",
     "text": [
      "[[0.21934817 0.45126141 0.20643732]\n",
      " [0.45092016 0.51676913 0.31448276]]\n",
      "[0 0 0 0 0 0 0 1 0 1 1 0 0 0 0 0 0 1 1 1 1 1 0 1 1 0 1 0 1 1 1 1 1 1 1 1 1\n",
      " 0 0 1 1 1 0 0 1 1 1 0 0 1 1 0 1 1 1 1 1 1 0 1 1 0 1 1 0 1 1 0 1 1 1 0 1 1\n",
      " 1 1 0 0 0 1 0 0 0 0 0 1 0 0 0 0 0 0 1 0 0 1 0 1 0 0 0 0 0 1 0 1 1 0 0 0 1\n",
      " 1 0 0 1 0 1 1 1 1 0 1 1 0 0 1 0 0 0 0 0 0 0 0 0 1 0 1 0 0 1 0 1 0 0 0 1 1\n",
      " 0 0 0 0 1 1 0 0 0 0 0 0 0 0 0 0 0 1 0 0 0 0 0 0 1 0 0 0 0 1 0 0 1 0 0 1 1\n",
      " 0 0 0 0 0 1 1 1 1 0 1 1 0 1 1 1 0 1 1 1 0 1 1 1 1 1 0 1 1 1 0 0 1 1 1 1 0\n",
      " 1 1 1 1 1 1 0 0 1 1 1 1 1 1 1 1 0 1 0 1 1 1 1 0 0 1 0 0 0 1 0 1 1 0 1 0 1\n",
      " 0 0 0 1 0 0 0 0 0 0 0 0 0 0 0 1 0 0 0 0 0 1 0 0 0 0 1 0 0 0 1 1 0 0 0 0 1\n",
      " 1 1 1 1 1 1 1 1 1 0 1 1 0 0 1 1 0 1 1 1 1 1 0 1 1 1 1 0 1 1 1 1 1 1 1 1 0\n",
      " 1 1 1 1 0 0 1 0 1 0 0 1 0 1 1 1 1 1 1 1 1 0 0 0 0 0 0 0 1 1 1 1 0 1 0 0 0\n",
      " 1 0 0 1 0 0 0 1 1 0 0 0 0 0 1 1 1 1 0 0 1 0 0 1 1 1 0 1 0 0 1 0 0 1 0 1 1\n",
      " 0 0 0 0 0 1 0 0 0 0 0 1 0 0 0 1 0 0 1 1 0 1 1 1 0 1 0 1 1 1 0 1 1 1 1 1 1\n",
      " 0 1 0 1 1 0 1 1 0 1 0 1 1 1 0 1 0 0 0 1 0 1 1 1 0 1 0 0 0 0 1 1 1 1 1 1 0\n",
      " 1 0 0 0 1 1 1 1 1 1 1 1 0 0 0 0 0 0 0 0 1 0 0 0 1 0 0 0 0 0 0 0 0 0 0 0 0\n",
      " 0 0 1 0 0 0 1 1 1 0 0 0 0 1 0 0 1 0 0 0 0 0 0 1 0 1 1 1 1 1 0 1 0 0 0 0 1\n",
      " 1 0 1 0 1 0 0 1 1 1 0 0 0 0 1 0 0 1 1 1 0 0 1 0 1 0 1 1 1 1 1 1 1 0 0 0 0\n",
      " 0 0 0 0 1 1 0 1 1 0 1 0 0 1 1 0 0 0 0 0 0 0 0 0 0 0 0 0 0 0 0 0 0 0 0 0 0\n",
      " 1 0 0 0 0 1 0 0 0 1 1 1 1 1 1 0]\n"
     ]
    }
   ],
   "source": [
    "q = new_df[['TUITFTE','GRAD_DEBT_MDN','MD_EARN_WNE_P10']] # We will use these 3 vectors for our Kmeans clustering\n",
    "kmeans = KMeans(n_clusters=2, random_state = 42).fit(q)\n",
    "j = (kmeans.labels_) # determine the labels of our every sample\n",
    "print (kmeans.cluster_centers_) # this is to know where the clusters centroid are located\n",
    "print (j)"
   ]
  },
  {
   "cell_type": "markdown",
   "metadata": {},
   "source": [
    "Roosevelt University is in cluster 1, we determine 2 clusters which we will label the college as whether after graduating we can earn enough money to compensate the debt and tuition we have payed. The result shows that Roosevelt University is worth it"
   ]
  },
  {
   "cell_type": "code",
   "execution_count": 524,
   "metadata": {
    "scrolled": true
   },
   "outputs": [
    {
     "name": "stdout",
     "output_type": "stream",
     "text": [
      "                    INSTNM   TUITFTE  GRAD_DEBT_MDN  MD_EARN_WNE_P10  \\\n",
      "1130  Roosevelt University  0.462392       0.444636         0.244175   \n",
      "\n",
      "      INEXPFTE  AVGFACSAL      NPT4   NUM4  ADM_RATE  clusters  \n",
      "1130  0.147821    0.43652  0.486018  339.0  0.757273         1  \n"
     ]
    },
    {
     "data": {
      "image/png": "[encoded data removed]",
      "text/plain": [
       "<matplotlib.figure.Figure at 0x26f04e727f0>"
      ]
     },
     "metadata": {},
     "output_type": "display_data"
    }
   ],
   "source": [
    "new_df['clusters'] = j # add new column to our dataframe named as clusters\n",
    "print (new_df[new_df['INSTNM'].str.contains(\"Roosevelt University\")]) #use our alma mater as an example to see which cluster it is located \n",
    "# we see that Roosevelt University is in cluster 1\n",
    "fig = plt.figure()\n",
    "ax = fig.add_subplot(111, projection='3d')\n",
    "a = new_df['TUITFTE']\n",
    "b = new_df['GRAD_DEBT_MDN']\n",
    "h = new_df['MD_EARN_WNE_P10']\n",
    "ax.scatter(a,b,h, marker=\"s\", c=new_df[\"clusters\"], s=40, cmap=\"RdBu\")\n",
    "plt.show()"
   ]
  },
  {
   "cell_type": "markdown",
   "metadata": {},
   "source": [
    "This is where we do Supervised Learning on the Number of Title IV (NUM4) students as dependent variable"
   ]
  },
  {
   "cell_type": "code",
   "execution_count": 525,
   "metadata": {},
   "outputs": [
    {
     "name": "stdout",
     "output_type": "stream",
     "text": [
      "[345.5 485.4 282.2 327.4 303.4 242.  356.3 238.3 372.2 611.7 287.6 362.\n",
      " 350.8 334.2 256.7 373.2 326.6 218.1 340.5 555.1 292.3 256.1 331.3 554.1\n",
      " 416.8 368.6 251.1 618.  217.1 336.  413.1 373.7 620.1 231.4 222.1 361.7\n",
      " 185.5 399.5 396.6 243.2 339.5 272.  321.5 459.  179.7 307.3 631.7 416.5\n",
      " 236.2 255.6 179.2 373.  262.1 174.  400.3 428.  367.2 586.3 262.4 216.2\n",
      " 353.6 354.5 256.7 489.9 308.3 447.8 301.1 433.5 208.6 315.6 171.9 393.4\n",
      " 371.2 301.8 497.2 460.1 266.9 286.8 417.5 219.8 206.7 397.  507.1 605.4\n",
      " 319.6 265.5 282.4 522.8 333.9 246.1 224.8 209.4 458.4 457.7 341.6 275.8\n",
      " 247.8]\n"
     ]
    }
   ],
   "source": [
    "X = new_df[['TUITFTE','GRAD_DEBT_MDN','MD_EARN_WNE_P10','INEXPFTE','AVGFACSAL','NPT4','ADM_RATE']] # features for our Random Forest\n",
    "y = new_df[['NUM4']] # our target variable\n",
    "X_train, X_test, y_train, y_test = train_test_split(X, y, test_size=0.15, random_state=42) # we us test size of 15% and divide the training and testing sets\n",
    "rf = RandomForestRegressor()\n",
    "rf.fit(X_train,y_train.values.ravel())\n",
    "y_pred = rf.predict(X_test)\n",
    "print (y_pred) # show all the predictions for our testing sets"
   ]
  },
  {
   "cell_type": "code",
   "execution_count": 526,
   "metadata": {},
   "outputs": [
    {
     "name": "stdout",
     "output_type": "stream",
     "text": [
      "                 importance\n",
      "GRAD_DEBT_MDN      0.195945\n",
      "AVGFACSAL          0.178144\n",
      "MD_EARN_WNE_P10    0.141365\n",
      "ADM_RATE           0.134944\n",
      "INEXPFTE           0.131651\n",
      "TUITFTE            0.110120\n",
      "NPT4               0.107832\n",
      "Mean Sqared Error : 28354.58865979381\n",
      "Variance score:  0.09271846787151361\n"
     ]
    }
   ],
   "source": [
    "feature_importances = pd.DataFrame(rf.feature_importances_,\n",
    "                                   index = X_train.columns,\n",
    "                                    columns=['importance']).sort_values('importance',ascending=False)\n",
    "\n",
    "print (feature_importances) # show which features has the greatest impact on the target, the higher the greater impact\n",
    "print (\"Mean Sqared Error :\", mean_squared_error(y_test, y_pred)) # This is to check our MSE, the lower the better\n",
    "print('Variance score: ', r2_score(y_test, y_pred)) # 1 is the perfect prediction"
   ]
  },
  {
   "cell_type": "code",
   "execution_count": 527,
   "metadata": {},
   "outputs": [
    {
     "name": "stdout",
     "output_type": "stream",
     "text": [
      "                    INSTNM   TUITFTE  GRAD_DEBT_MDN  MD_EARN_WNE_P10  \\\n",
      "1130  Roosevelt University  0.462392       0.444636         0.244175   \n",
      "\n",
      "      INEXPFTE  AVGFACSAL      NPT4   NUM4  ADM_RATE  clusters  \n",
      "1130  0.147821    0.43652  0.486018  339.0  0.757273         1  \n"
     ]
    }
   ],
   "source": [
    "print (new_df[new_df['INSTNM'].str.contains(\"Roosevelt University\")])"
   ]
  },
  {
   "cell_type": "markdown",
   "metadata": {},
   "source": [
    "Using Roosevelt University as an example, we can see that our prediction on NUM4 comes extremely close to our actual target which is 339. This means that our model is quite good in predicting continuous variable even though our MSE and variance is not good"
   ]
  },
  {
   "cell_type": "code",
   "execution_count": 528,
   "metadata": {},
   "outputs": [
    {
     "name": "stdout",
     "output_type": "stream",
     "text": [
      "[332.2]\n",
      "[332.2]\n"
     ]
    }
   ],
   "source": [
    "print(rf.predict([[19997,23310,43600,10315,7939,23817,0.7764]])) # this is where we do our predictions to features that we want to be predicted\n",
    "print(rf.predict([[19997,23310,43600,10315,7939,22149.81,0.7764]]))"
   ]
  },
  {
   "cell_type": "markdown",
   "metadata": {},
   "source": [
    "This is where we answer Question # 3, it has the same process as before except we use TUITFTE as our dependent variable and added N4 as one of our independent variables which is the multiplication of NUM4 and NPT4"
   ]
  },
  {
   "cell_type": "code",
   "execution_count": 529,
   "metadata": {},
   "outputs": [
    {
     "name": "stdout",
     "output_type": "stream",
     "text": [
      "                             INSTNM  TUITFTE  GRAD_DEBT_MDN  MD_EARN_WNE_P10  \\\n",
      "0          Alabama A & M University   9427.0       0.722185         0.126747   \n",
      "4          Alabama State University   7733.0       0.698223         0.095993   \n",
      "8   Auburn University at Montgomery   8071.0       0.376740         0.148183   \n",
      "32       University of West Alabama   7928.0       0.436414         0.186393   \n",
      "36             University of Mobile   9947.0       0.542501         0.165890   \n",
      "\n",
      "    INEXPFTE  AVGFACSAL     NPT4   NUM4  ADM_RATE        N4  \n",
      "0   0.101066   0.366077  15229.0  680.0  0.485020  0.305830  \n",
      "4   0.104006   0.347036  11110.0  778.0  0.492618  0.254031  \n",
      "8   0.091318   0.390500  13431.0  428.0  0.784737  0.166442  \n",
      "32  0.102934   0.315885  13092.0  273.0  0.695940  0.100659  \n",
      "36  0.090165   0.232995  19017.0  184.0  0.549175  0.098390  \n"
     ]
    }
   ],
   "source": [
    "df2 = df[~df[['INSTNM','TUITFTE','GRAD_DEBT_MDN','MD_EARN_WNE_P10','INEXPFTE','AVGFACSAL','NPT4','NUM4','ADM_RATE']].isin(to_drop)]\n",
    "df2 = df2.dropna()\n",
    "df2['N4'] = df2['NUM4'] * df2['NPT4'] # add new column which is N4, we multiply it so the decrease of net price can affect the entire college\n",
    "scaler = MinMaxScaler()\n",
    "df2[['GRAD_DEBT_MDN','MD_EARN_WNE_P10','INEXPFTE','N4','AVGFACSAL','ADM_RATE']] = scaler.fit_transform(df2[['GRAD_DEBT_MDN','MD_EARN_WNE_P10','INEXPFTE','N4','AVGFACSAL','ADM_RATE']])\n",
    "print (df2.head())"
   ]
  },
  {
   "cell_type": "code",
   "execution_count": 530,
   "metadata": {},
   "outputs": [
    {
     "name": "stdout",
     "output_type": "stream",
     "text": [
      "[ 7518.6 11345.8 15153.7  8809.1 19074.7 14892.2 14748.9 12663.3 11679.5\n",
      "  8002.8 20255.  18700.5 10698.8 12584.8 12470.5 16580.1 18198.8 11264.\n",
      "  9615.7 21361.2 13692.9 18691.2  7219.7 18001.5 15040.8  5284.8  6893.\n",
      " 11261.6 14391.3 17335.2 22438.9 19011.8 19360.8  9644.9 28548.8 23365.8\n",
      "  7842.   5829.5 17546.7 13798.3  8829.7 13550.6 15905.1  9580.6 28140.4\n",
      "  6826.4  4583.  15446.7 11848.9 14211.8 14359.9  8644.8 14065.4 15208.8\n",
      " 21966.2 21793.8  6181.3 15119.7 35097.9  9418.7 10302.6 14514.  10908.8\n",
      "  9122.7  8961.2 16489.4 10946.3 15511.8 11544.9 14023.4  8395.6 21022.2\n",
      " 15511.8 15719.9 16511.6 18499.8 12498.6 10973.7  8487.1 12900.4 12319.4\n",
      " 15172.2  9206.7  5050.3 15602.7 12539.7 14039.8 25454.4  5780.9 13540.\n",
      " 14248.8 11333.  21667.2 12859.9 12470.7 28593.8  9154.6]\n"
     ]
    }
   ],
   "source": [
    "X_new = df2[['N4','GRAD_DEBT_MDN','MD_EARN_WNE_P10','INEXPFTE','AVGFACSAL','ADM_RATE']]\n",
    "y_new = df2['TUITFTE']\n",
    "X_new_train, X_new_test, y_new_train, y_new_test = train_test_split(X_new, y_new, test_size=0.15, random_state=42)\n",
    "rf2 = RandomForestRegressor()\n",
    "rf2.fit(X_new_train,y_new_train.values.ravel())\n",
    "y_new_pred = rf2.predict(X_new_test)\n",
    "print (y_new_pred)"
   ]
  },
  {
   "cell_type": "code",
   "execution_count": 531,
   "metadata": {},
   "outputs": [
    {
     "name": "stdout",
     "output_type": "stream",
     "text": [
      "                 importance\n",
      "INEXPFTE           0.451089\n",
      "MD_EARN_WNE_P10    0.169871\n",
      "N4                 0.111334\n",
      "AVGFACSAL          0.092675\n",
      "GRAD_DEBT_MDN      0.089452\n",
      "ADM_RATE           0.085579\n",
      "Mean Sqared Error : 28354.58865979381\n",
      "Variance score:  0.09271846787151361\n"
     ]
    }
   ],
   "source": [
    "feature_importances = pd.DataFrame(rf2.feature_importances_,\n",
    "                                   index = X_new_train.columns,\n",
    "                                    columns=['importance']).sort_values('importance',ascending=False)\n",
    "\n",
    "print (feature_importances)\n",
    "print (\"Mean Sqared Error :\", mean_squared_error(y_test, y_pred))\n",
    "print('Variance score: ', r2_score(y_test, y_pred))"
   ]
  },
  {
   "cell_type": "markdown",
   "metadata": {},
   "source": [
    "Using our model we can see that decreasing the N4 by 7% has no effect on our total net tuition revenue(TUITFTE) this may be because our model is showing very high MSE and extremely low variance. "
   ]
  },
  {
   "cell_type": "code",
   "execution_count": 532,
   "metadata": {},
   "outputs": [
    {
     "name": "stdout",
     "output_type": "stream",
     "text": [
      "[19835.]\n",
      "[19835.]\n"
     ]
    }
   ],
   "source": [
    "print (rf2.predict([[8073963,23310,43600,10315,7939,0.7764]]))\n",
    "print (rf2.predict([[7508786,23310,43600,10315,7939,0.7764]]))"
   ]
  },
  {
   "cell_type": "markdown",
   "metadata": {},
   "source": [
    "SUMMARY\n",
    "\n",
    "Using Roosevelt University as our example, we use KMeans Clustering to determine whether our school is worth it or not and the results shows that the college is in cluster 1 which means it is worth it, which means that our future earnings can pay out the debt and tuition we have incurred.\n",
    "\n",
    "Using Random Forest Regressor, we can see that our predicting target comes close in determining the actual target which means the model is good enough to predict the Number of TITLE IV students even though our MSE and variance is not good.\n",
    "\n",
    "For Question 3 we use TUITFTE as our dependent variable and decrease the N4 by 7% and the result shows that it has no effect on TUITFTE.\n",
    "\n"
   ]
  }
 ],
 "metadata": {
  "kernelspec": {
   "display_name": "Python 3",
   "language": "python",
   "name": "python3"
  },
  "language_info": {
   "codemirror_mode": {
    "name": "ipython",
    "version": 3
   },
   "file_extension": ".py",
   "mimetype": "text/x-python",
   "name": "python",
   "nbconvert_exporter": "python",
   "pygments_lexer": "ipython3",
   "version": "3.6.3"
  }
 },
 "nbformat": 4,
 "nbformat_minor": 2
}
